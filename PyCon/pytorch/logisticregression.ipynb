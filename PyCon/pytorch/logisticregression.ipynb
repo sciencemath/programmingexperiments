{
 "cells": [
  {
   "cell_type": "code",
   "execution_count": 1,
   "id": "9fa87346",
   "metadata": {},
   "outputs": [],
   "source": [
    "import pandas as pd\n",
    "import numpy as np\n",
    "import matplotlib.pyplot as plt\n",
    "import torch"
   ]
  },
  {
   "cell_type": "code",
   "execution_count": 2,
   "id": "41ac118d-3d02-479b-9538-e39b7440d6c9",
   "metadata": {},
   "outputs": [
    {
     "data": {
      "text/html": [
       "<div>\n",
       "<style scoped>\n",
       "    .dataframe tbody tr th:only-of-type {\n",
       "        vertical-align: middle;\n",
       "    }\n",
       "\n",
       "    .dataframe tbody tr th {\n",
       "        vertical-align: top;\n",
       "    }\n",
       "\n",
       "    .dataframe thead th {\n",
       "        text-align: right;\n",
       "    }\n",
       "</style>\n",
       "<table border=\"1\" class=\"dataframe\">\n",
       "  <thead>\n",
       "    <tr style=\"text-align: right;\">\n",
       "      <th></th>\n",
       "      <th>x1</th>\n",
       "      <th>x2</th>\n",
       "      <th>label</th>\n",
       "    </tr>\n",
       "  </thead>\n",
       "  <tbody>\n",
       "    <tr>\n",
       "      <th>0</th>\n",
       "      <td>0.77</td>\n",
       "      <td>-1.14</td>\n",
       "      <td>0</td>\n",
       "    </tr>\n",
       "    <tr>\n",
       "      <th>1</th>\n",
       "      <td>-0.33</td>\n",
       "      <td>1.44</td>\n",
       "      <td>0</td>\n",
       "    </tr>\n",
       "    <tr>\n",
       "      <th>2</th>\n",
       "      <td>0.91</td>\n",
       "      <td>-3.07</td>\n",
       "      <td>0</td>\n",
       "    </tr>\n",
       "    <tr>\n",
       "      <th>3</th>\n",
       "      <td>-0.37</td>\n",
       "      <td>-1.91</td>\n",
       "      <td>0</td>\n",
       "    </tr>\n",
       "    <tr>\n",
       "      <th>4</th>\n",
       "      <td>-0.63</td>\n",
       "      <td>-1.53</td>\n",
       "      <td>0</td>\n",
       "    </tr>\n",
       "    <tr>\n",
       "      <th>5</th>\n",
       "      <td>0.39</td>\n",
       "      <td>-1.99</td>\n",
       "      <td>0</td>\n",
       "    </tr>\n",
       "    <tr>\n",
       "      <th>6</th>\n",
       "      <td>-0.49</td>\n",
       "      <td>-2.74</td>\n",
       "      <td>0</td>\n",
       "    </tr>\n",
       "    <tr>\n",
       "      <th>7</th>\n",
       "      <td>-0.68</td>\n",
       "      <td>-1.52</td>\n",
       "      <td>0</td>\n",
       "    </tr>\n",
       "    <tr>\n",
       "      <th>8</th>\n",
       "      <td>-0.10</td>\n",
       "      <td>-3.43</td>\n",
       "      <td>0</td>\n",
       "    </tr>\n",
       "    <tr>\n",
       "      <th>9</th>\n",
       "      <td>-0.05</td>\n",
       "      <td>-1.95</td>\n",
       "      <td>0</td>\n",
       "    </tr>\n",
       "    <tr>\n",
       "      <th>10</th>\n",
       "      <td>3.88</td>\n",
       "      <td>0.65</td>\n",
       "      <td>1</td>\n",
       "    </tr>\n",
       "    <tr>\n",
       "      <th>11</th>\n",
       "      <td>0.73</td>\n",
       "      <td>2.97</td>\n",
       "      <td>1</td>\n",
       "    </tr>\n",
       "    <tr>\n",
       "      <th>12</th>\n",
       "      <td>0.83</td>\n",
       "      <td>3.94</td>\n",
       "      <td>1</td>\n",
       "    </tr>\n",
       "    <tr>\n",
       "      <th>13</th>\n",
       "      <td>1.59</td>\n",
       "      <td>1.25</td>\n",
       "      <td>1</td>\n",
       "    </tr>\n",
       "    <tr>\n",
       "      <th>14</th>\n",
       "      <td>1.14</td>\n",
       "      <td>3.91</td>\n",
       "      <td>1</td>\n",
       "    </tr>\n",
       "    <tr>\n",
       "      <th>15</th>\n",
       "      <td>1.73</td>\n",
       "      <td>2.80</td>\n",
       "      <td>1</td>\n",
       "    </tr>\n",
       "    <tr>\n",
       "      <th>16</th>\n",
       "      <td>1.31</td>\n",
       "      <td>1.85</td>\n",
       "      <td>1</td>\n",
       "    </tr>\n",
       "    <tr>\n",
       "      <th>17</th>\n",
       "      <td>1.56</td>\n",
       "      <td>3.85</td>\n",
       "      <td>1</td>\n",
       "    </tr>\n",
       "    <tr>\n",
       "      <th>18</th>\n",
       "      <td>1.23</td>\n",
       "      <td>2.54</td>\n",
       "      <td>1</td>\n",
       "    </tr>\n",
       "    <tr>\n",
       "      <th>19</th>\n",
       "      <td>1.33</td>\n",
       "      <td>2.03</td>\n",
       "      <td>1</td>\n",
       "    </tr>\n",
       "  </tbody>\n",
       "</table>\n",
       "</div>"
      ],
      "text/plain": [
       "      x1    x2  label\n",
       "0   0.77 -1.14      0\n",
       "1  -0.33  1.44      0\n",
       "2   0.91 -3.07      0\n",
       "3  -0.37 -1.91      0\n",
       "4  -0.63 -1.53      0\n",
       "5   0.39 -1.99      0\n",
       "6  -0.49 -2.74      0\n",
       "7  -0.68 -1.52      0\n",
       "8  -0.10 -3.43      0\n",
       "9  -0.05 -1.95      0\n",
       "10  3.88  0.65      1\n",
       "11  0.73  2.97      1\n",
       "12  0.83  3.94      1\n",
       "13  1.59  1.25      1\n",
       "14  1.14  3.91      1\n",
       "15  1.73  2.80      1\n",
       "16  1.31  1.85      1\n",
       "17  1.56  3.85      1\n",
       "18  1.23  2.54      1\n",
       "19  1.33  2.03      1"
      ]
     },
     "execution_count": 2,
     "metadata": {},
     "output_type": "execute_result"
    }
   ],
   "source": [
    "df = pd.read_csv('toydata-truncated.txt', sep='\\t')\n",
    "df"
   ]
  },
  {
   "cell_type": "code",
   "execution_count": 3,
   "id": "a12fed91-169a-44ea-9051-6f4a3d721e68",
   "metadata": {},
   "outputs": [
    {
     "data": {
      "text/plain": [
       "array([[ 0.77, -1.14],\n",
       "       [-0.33,  1.44],\n",
       "       [ 0.91, -3.07],\n",
       "       [-0.37, -1.91],\n",
       "       [-0.63, -1.53],\n",
       "       [ 0.39, -1.99],\n",
       "       [-0.49, -2.74],\n",
       "       [-0.68, -1.52],\n",
       "       [-0.1 , -3.43],\n",
       "       [-0.05, -1.95],\n",
       "       [ 3.88,  0.65],\n",
       "       [ 0.73,  2.97],\n",
       "       [ 0.83,  3.94],\n",
       "       [ 1.59,  1.25],\n",
       "       [ 1.14,  3.91],\n",
       "       [ 1.73,  2.8 ],\n",
       "       [ 1.31,  1.85],\n",
       "       [ 1.56,  3.85],\n",
       "       [ 1.23,  2.54],\n",
       "       [ 1.33,  2.03]])"
      ]
     },
     "execution_count": 3,
     "metadata": {},
     "output_type": "execute_result"
    }
   ],
   "source": [
    "X_train = df[['x1', 'x2']].values\n",
    "y_train = df['label'].values\n",
    "X_train"
   ]
  },
  {
   "cell_type": "code",
   "execution_count": 4,
   "id": "c8da2196-a0a8-4fcf-9169-d9e6ceb4d9aa",
   "metadata": {},
   "outputs": [
    {
     "data": {
      "text/plain": [
       "(20, 2)"
      ]
     },
     "execution_count": 4,
     "metadata": {},
     "output_type": "execute_result"
    }
   ],
   "source": [
    "X_train.shape"
   ]
  },
  {
   "cell_type": "code",
   "execution_count": 5,
   "id": "fdf394a7-ad0d-4b2b-afd2-9cc0abe8e7ad",
   "metadata": {},
   "outputs": [
    {
     "data": {
      "text/plain": [
       "array([0, 0, 0, 0, 0, 0, 0, 0, 0, 0, 1, 1, 1, 1, 1, 1, 1, 1, 1, 1])"
      ]
     },
     "execution_count": 5,
     "metadata": {},
     "output_type": "execute_result"
    }
   ],
   "source": [
    "y_train"
   ]
  },
  {
   "cell_type": "code",
   "execution_count": 7,
   "id": "10e85bbb-7949-408e-9f38-3b506a37015c",
   "metadata": {},
   "outputs": [
    {
     "data": {
      "text/plain": [
       "(20,)"
      ]
     },
     "execution_count": 7,
     "metadata": {},
     "output_type": "execute_result"
    }
   ],
   "source": [
    "y_train.shape"
   ]
  },
  {
   "cell_type": "code",
   "execution_count": 12,
   "id": "ee8fc62b-f264-418f-b7e0-151b55e3b1b7",
   "metadata": {},
   "outputs": [
    {
     "data": {
      "text/plain": [
       "array([10, 10])"
      ]
     },
     "execution_count": 12,
     "metadata": {},
     "output_type": "execute_result"
    }
   ],
   "source": [
    "np.bincount(y_train) # bincount counts occurances in order 0 10 times and 1 10 times, if using weights it times the weights"
   ]
  },
  {
   "cell_type": "code",
   "execution_count": 15,
   "id": "0db5f482-99b0-4f5a-8c08-af99ddec4d8c",
   "metadata": {},
   "outputs": [
    {
     "data": {
      "image/png": "[encoded data removed]",
      "text/plain": [
       "<Figure size 640x480 with 1 Axes>"
      ]
     },
     "metadata": {},
     "output_type": "display_data"
    }
   ],
   "source": [
    "plt.plot(\n",
    "    X_train[y_train == 0, 0],\n",
    "    X_train[y_train == 0, 1],\n",
    "    marker=\"D\",\n",
    "    markersize=10,\n",
    "    linestyle=\"\",\n",
    "    label=\"Class 0\",\n",
    ")\n",
    "\n",
    "plt.plot(\n",
    "    X_train[y_train == 1, 0],\n",
    "    X_train[y_train == 1, 1],\n",
    "    marker=\"^\",\n",
    "    markersize=13,\n",
    "    linestyle=\"\",\n",
    "    label=\"Class 1\",\n",
    ")\n",
    "\n",
    "plt.legend(loc=2)\n",
    "plt.xlim([-5, 5])\n",
    "plt.ylim([-5, 5])\n",
    "\n",
    "plt.xlabel(\"Feature $x_1$\", fontsize=12)\n",
    "plt.ylabel(\"Feature $x_2$\", fontsize=12)\n",
    "\n",
    "plt.grid()\n",
    "plt.show()"
   ]
  },
  {
   "cell_type": "code",
   "execution_count": 16,
   "id": "7915b000-85b6-4217-b7cc-a3762d63537f",
   "metadata": {},
   "outputs": [],
   "source": [
    "X_train = (X_train - X_train.mean(axis=0)) / X_train.std(axis=0)"
   ]
  },
  {
   "cell_type": "code",
   "execution_count": 17,
   "id": "63362521-114d-4cc6-bd11-b812e6781bd6",
   "metadata": {},
   "outputs": [
    {
     "data": {
      "image/png": "[encoded data removed]",
      "text/plain": [
       "<Figure size 640x480 with 1 Axes>"
      ]
     },
     "metadata": {},
     "output_type": "display_data"
    }
   ],
   "source": [
    "plt.plot(\n",
    "    X_train[y_train == 0, 0],\n",
    "    X_train[y_train == 0, 1],\n",
    "    marker=\"D\",\n",
    "    markersize=10,\n",
    "    linestyle=\"\",\n",
    "    label=\"Class 0\",\n",
    ")\n",
    "\n",
    "plt.plot(\n",
    "    X_train[y_train == 1, 0],\n",
    "    X_train[y_train == 1, 1],\n",
    "    marker=\"^\",\n",
    "    markersize=13,\n",
    "    linestyle=\"\",\n",
    "    label=\"Class 1\",\n",
    ")\n",
    "\n",
    "plt.legend(loc=2)\n",
    "plt.xlim([-5, 5])\n",
    "plt.ylim([-5, 5])\n",
    "\n",
    "plt.xlabel(\"Feature $x_1$\", fontsize=12)\n",
    "plt.ylabel(\"Feature $x_2$\", fontsize=12)\n",
    "\n",
    "plt.grid()\n",
    "plt.show()"
   ]
  },
  {
   "cell_type": "code",
   "execution_count": 19,
   "id": "a06dc0a7-4e00-4f5c-bcb0-6b33234446a4",
   "metadata": {},
   "outputs": [],
   "source": [
    "import torch.nn.functional as F\n",
    "\n",
    "class LogisticRegression(torch.nn.Module):\n",
    "    def __init__(self, num_features, num_classes):\n",
    "        super().__init__()\n",
    "        self.linear = torch.nn.Linear(num_features, num_classes)\n",
    "\n",
    "    def forward(self, x):\n",
    "        logits = self.linear(x)\n",
    "        return logits"
   ]
  },
  {
   "cell_type": "code",
   "execution_count": 30,
   "id": "e17dc4e2-875d-46da-bd62-fb67c16e9af7",
   "metadata": {},
   "outputs": [],
   "source": [
    "torch.manual_seed(1)\n",
    "model = LogisticRegression(num_features=2, num_classes=2)"
   ]
  },
  {
   "cell_type": "code",
   "execution_count": 21,
   "id": "7d1e5137-5cd8-48e9-9aa0-9f47604d4ad8",
   "metadata": {},
   "outputs": [
    {
     "name": "stdout",
     "output_type": "stream",
     "text": [
      "tensor([[0.1312, 0.8688],\n",
      "        [0.1312, 0.8688],\n",
      "        [0.6970, 0.3030]])\n"
     ]
    }
   ],
   "source": [
    "x = torch.tensor([[1.1,2.1],\n",
    "                  [1.1,2.1],\n",
    "                  [9.1,4.1]])\n",
    "\n",
    "with torch.no_grad(): # no_grad just showing how the model works as an example we dont care about gradient optimization\n",
    "    logits = model(x)\n",
    "    probas = F.softmax(logits, dim=1)\n",
    "\n",
    "print(probas)"
   ]
  },
  {
   "cell_type": "code",
   "execution_count": 47,
   "id": "d096b65d-5f59-4f06-8dfa-ef3e4ae15f4c",
   "metadata": {},
   "outputs": [],
   "source": [
    "from torch.utils.data import Dataset, DataLoader\n",
    "\n",
    "class MyDataset(Dataset):\n",
    "    def __init__(self, X, y):\n",
    "        self.features = torch.tensor(X, dtype=torch.float32)\n",
    "        self.labels = torch.tensor(y, dtype=torch.int64)\n",
    "\n",
    "    def __getitem__(self, index):\n",
    "        x = self.features[index]\n",
    "        y = self.labels[index]\n",
    "        return x, y\n",
    "\n",
    "    def __len__(self):\n",
    "        return self.labels.shape[0]\n",
    "\n",
    "train_ds = MyDataset(X_train, y_train)\n",
    "\n",
    "train_loader = DataLoader(\n",
    "    dataset=train_ds,\n",
    "    batch_size=10,\n",
    "    shuffle=True,\n",
    ")"
   ]
  },
  {
   "cell_type": "code",
   "execution_count": 53,
   "id": "552762c5-e18e-4eab-afdd-87a7c177ee5a",
   "metadata": {},
   "outputs": [
    {
     "name": "stdout",
     "output_type": "stream",
     "text": [
      "Epoch: 001/020 | Batch 000/002 | Loss: 1.90\n",
      "Epoch: 001/020 | Batch 001/002 | Loss: 1.59\n",
      "Epoch: 002/020 | Batch 000/002 | Loss: 0.09\n",
      "Epoch: 002/020 | Batch 001/002 | Loss: 3.06\n",
      "Epoch: 003/020 | Batch 000/002 | Loss: 1.51\n",
      "Epoch: 003/020 | Batch 001/002 | Loss: 1.41\n",
      "Epoch: 004/020 | Batch 000/002 | Loss: 2.74\n",
      "Epoch: 004/020 | Batch 001/002 | Loss: 0.02\n",
      "Epoch: 005/020 | Batch 000/002 | Loss: 0.77\n",
      "Epoch: 005/020 | Batch 001/002 | Loss: 1.80\n",
      "Epoch: 006/020 | Batch 000/002 | Loss: 1.72\n",
      "Epoch: 006/020 | Batch 001/002 | Loss: 0.68\n",
      "Epoch: 007/020 | Batch 000/002 | Loss: 2.28\n",
      "Epoch: 007/020 | Batch 001/002 | Loss: 0.00\n",
      "Epoch: 008/020 | Batch 000/002 | Loss: 0.61\n",
      "Epoch: 008/020 | Batch 001/002 | Loss: 1.48\n",
      "Epoch: 009/020 | Batch 000/002 | Loss: 0.81\n",
      "Epoch: 009/020 | Batch 001/002 | Loss: 1.13\n",
      "Epoch: 010/020 | Batch 000/002 | Loss: 0.21\n",
      "Epoch: 010/020 | Batch 001/002 | Loss: 1.60\n",
      "Epoch: 011/020 | Batch 000/002 | Loss: 1.70\n",
      "Epoch: 011/020 | Batch 001/002 | Loss: 0.00\n",
      "Epoch: 012/020 | Batch 000/002 | Loss: 0.42\n",
      "Epoch: 012/020 | Batch 001/002 | Loss: 1.12\n",
      "Epoch: 013/020 | Batch 000/002 | Loss: 1.07\n",
      "Epoch: 013/020 | Batch 001/002 | Loss: 0.35\n",
      "Epoch: 014/020 | Batch 000/002 | Loss: 0.00\n",
      "Epoch: 014/020 | Batch 001/002 | Loss: 1.34\n",
      "Epoch: 015/020 | Batch 000/002 | Loss: 0.29\n",
      "Epoch: 015/020 | Batch 001/002 | Loss: 0.92\n",
      "Epoch: 016/020 | Batch 000/002 | Loss: 0.85\n",
      "Epoch: 016/020 | Batch 001/002 | Loss: 0.28\n",
      "Epoch: 017/020 | Batch 000/002 | Loss: 0.00\n",
      "Epoch: 017/020 | Batch 001/002 | Loss: 1.07\n",
      "Epoch: 018/020 | Batch 000/002 | Loss: 0.19\n",
      "Epoch: 018/020 | Batch 001/002 | Loss: 0.78\n",
      "Epoch: 019/020 | Batch 000/002 | Loss: 0.17\n",
      "Epoch: 019/020 | Batch 001/002 | Loss: 0.74\n",
      "Epoch: 020/020 | Batch 000/002 | Loss: 0.72\n",
      "Epoch: 020/020 | Batch 001/002 | Loss: 0.13\n"
     ]
    }
   ],
   "source": [
    "optimizer = torch.optim.SGD(model.parameters(), lr=0.5)\n",
    "num_epochs = 20\n",
    "\n",
    "for epoch in range(num_epochs):\n",
    "    model = model.train()\n",
    "    for batch_idx, (features, class_labels) in enumerate(train_loader):\n",
    "        \n",
    "        outputs = model(features)\n",
    "        loss = F.cross_entropy(outputs, class_labels)\n",
    "\n",
    "        optimizer.zero_grad()\n",
    "        loss.backward()\n",
    "        optimizer.step()\n",
    "\n",
    "        print(f'Epoch: {epoch+1:03d}/{num_epochs:03d}'\n",
    "                f' | Batch {batch_idx:03d}/{len(train_loader):03d}'\n",
    "                f' | Loss: {loss:.2f}')"
   ]
  },
  {
   "cell_type": "code",
   "execution_count": 54,
   "id": "1fd5c489-bc3b-411a-848c-76e7067b69a3",
   "metadata": {},
   "outputs": [],
   "source": [
    "def compute_accuracy(model, dataloader):\n",
    "    model = model.eval()\n",
    "    correct = 0.0\n",
    "    total_examples = 0\n",
    "\n",
    "    for idx, (features, class_labels) in enumerate(dataloader):\n",
    "        \n",
    "        with torch.no_grad():\n",
    "            logits = model(features)\n",
    "\n",
    "        pred = torch.argmax(logits, dim=1)\n",
    "\n",
    "        compare = class_labels == pred\n",
    "        correct += torch.sum(compare)\n",
    "        total_examples += len(compare)\n",
    "\n",
    "    return correct / total_examples"
   ]
  },
  {
   "cell_type": "code",
   "execution_count": 55,
   "id": "5649f531-6bab-4246-b773-9b226162cea6",
   "metadata": {},
   "outputs": [
    {
     "name": "stdout",
     "output_type": "stream",
     "text": [
      "Accuracy: 90.0%\n"
     ]
    }
   ],
   "source": [
    "train_acc = compute_accuracy(model, train_loader)\n",
    "print(f'Accuracy: {train_acc*100}%')"
   ]
  },
  {
   "cell_type": "code",
   "execution_count": 56,
   "id": "6c967f59-4a52-4ef9-9095-471a2a0310f7",
   "metadata": {},
   "outputs": [
    {
     "name": "stdout",
     "output_type": "stream",
     "text": [
      "False\n"
     ]
    }
   ],
   "source": [
    "print(torch.cuda.is_available())"
   ]
  },
  {
   "cell_type": "code",
   "execution_count": 57,
   "id": "49395c0c-9b78-4e97-874d-56777fc1cefc",
   "metadata": {},
   "outputs": [
    {
     "name": "stdout",
     "output_type": "stream",
     "text": [
      "True\n"
     ]
    }
   ],
   "source": [
    "print(torch.backends.mps.is_available()) # Mac equivlent to Nvidia cuda\n",
    "# mps_device = torch.device(\"mps\")"
   ]
  },
  {
   "cell_type": "markdown",
   "id": "78b85d8f-6879-4da6-94f0-29e753ab0389",
   "metadata": {},
   "source": [
    "# Loding data onto a single GPU MacOS"
   ]
  },
  {
   "cell_type": "code",
   "execution_count": 58,
   "id": "a2ce337e-84e1-47fc-80c8-d008e9ba9a5f",
   "metadata": {},
   "outputs": [
    {
     "data": {
      "text/plain": [
       "tensor([1., 2., 3.])"
      ]
     },
     "execution_count": 58,
     "metadata": {},
     "output_type": "execute_result"
    }
   ],
   "source": [
    "my_tensor = torch.tensor([1.,2.,3.])\n",
    "my_tensor"
   ]
  },
  {
   "cell_type": "code",
   "execution_count": 59,
   "id": "fef822a2-4cf5-4fdf-99b3-ea551f1ce2f6",
   "metadata": {},
   "outputs": [
    {
     "data": {
      "text/plain": [
       "tensor([1., 2., 3.], device='mps:0')"
      ]
     },
     "execution_count": 59,
     "metadata": {},
     "output_type": "execute_result"
    }
   ],
   "source": [
    "my_tensor = my_tensor.to('mps')\n",
    "my_tensor"
   ]
  },
  {
   "cell_type": "code",
   "execution_count": 60,
   "id": "83904fed-21d7-4815-aa12-d1a05db6188b",
   "metadata": {},
   "outputs": [
    {
     "data": {
      "text/plain": [
       "tensor([1., 2., 3.])"
      ]
     },
     "execution_count": 60,
     "metadata": {},
     "output_type": "execute_result"
    }
   ],
   "source": [
    "my_tensor = my_tensor.to('cpu')\n",
    "my_tensor"
   ]
  },
  {
   "cell_type": "code",
   "execution_count": null,
   "id": "853e153c-360d-4c58-8e1b-7035ac47e9d7",
   "metadata": {},
   "outputs": [],
   "source": []
  }
 ],
 "metadata": {
  "kernelspec": {
   "display_name": "Python 3 (ipykernel)",
   "language": "python",
   "name": "python3"
  },
  "language_info": {
   "codemirror_mode": {
    "name": "ipython",
    "version": 3
   },
   "file_extension": ".py",
   "mimetype": "text/x-python",
   "name": "python",
   "nbconvert_exporter": "python",
   "pygments_lexer": "ipython3",
   "version": "3.9.6"
  }
 },
 "nbformat": 4,
 "nbformat_minor": 5
}
